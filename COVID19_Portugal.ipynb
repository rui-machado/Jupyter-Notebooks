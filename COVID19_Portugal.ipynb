{
  "nbformat": 4,
  "nbformat_minor": 0,
  "metadata": {
    "colab": {
      "name": "COVID19 - Portugal.ipynb",
      "provenance": [],
      "collapsed_sections": [],
      "toc_visible": true,
      "authorship_tag": "ABX9TyOE78IXmX8ZWYRZtZ7CYM9z",
      "include_colab_link": true
    },
    "kernelspec": {
      "name": "python3",
      "display_name": "Python 3"
    }
  },
  "cells": [
    {
      "cell_type": "markdown",
      "metadata": {
        "id": "view-in-github",
        "colab_type": "text"
      },
      "source": [
        "<a href=\"https://colab.research.google.com/github/rui-machado/ML-Projects/blob/master/COVID19_Portugal.ipynb\" target=\"_parent\"><img src=\"https://colab.research.google.com/assets/colab-badge.svg\" alt=\"Open In Colab\"/></a>"
      ]
    },
    {
      "cell_type": "code",
      "metadata": {
        "id": "iE9tWjJVLOtg",
        "colab_type": "code",
        "colab": {}
      },
      "source": [
        "# Setup PySpark\n",
        "!apt-get install openjdk-8-jdk-headless -qq > /dev/null\n",
        "!wget -q https://downloads.apache.org/spark/spark-2.4.5/spark-2.4.5-bin-hadoop2.7.tgz\n",
        "!ls\n",
        "!gunzip -c spark-2.4.5-bin-hadoop2.7.tgz | tar xvf -\n",
        "!pip install -q findspark\n",
        "!pwd"
      ],
      "execution_count": 0,
      "outputs": []
    },
    {
      "cell_type": "code",
      "metadata": {
        "id": "N_l3Ne9ILV9H",
        "colab_type": "code",
        "colab": {}
      },
      "source": [
        "# Setup env variables\n",
        "import os\n",
        "import findspark\n",
        "os.environ[\"JAVA_HOME\"] = \"/usr/lib/jvm/java-8-openjdk-amd64\"\n",
        "os.environ[\"SPARK_HOME\"] = \"/content/spark-2.4.5-bin-hadoop2.7\"\n",
        "findspark.init()\n",
        "# Create a local Spark Session\n",
        "from pyspark.sql import SparkSession\n",
        "spark = SparkSession.builder.master(\"local[*]\").getOrCreate()"
      ],
      "execution_count": 0,
      "outputs": []
    },
    {
      "cell_type": "code",
      "metadata": {
        "id": "tqE6GGdkORAL",
        "colab_type": "code",
        "colab": {}
      },
      "source": [
        "# Load libraries\n",
        "from datetime import datetime,timedelta\n",
        "from pyspark.sql.functions import datediff,current_date,to_date, lit, min as smin\n",
        "from scipy.optimize import curve_fit\n",
        "import numpy as np\n",
        "from scipy.optimize import fsolve\n",
        "from sklearn.metrics import mean_squared_error\n",
        "import matplotlib.pyplot as plt\n",
        "%matplotlib inline"
      ],
      "execution_count": 0,
      "outputs": []
    },
    {
      "cell_type": "code",
      "metadata": {
        "id": "4kSsWL-dLypP",
        "colab_type": "code",
        "colab": {}
      },
      "source": [
        "# Read data\n",
        "df = spark.read.csv('COVID_PT.csv', sep=';',header=True)\n",
        "df.head()"
      ],
      "execution_count": 0,
      "outputs": []
    },
    {
      "cell_type": "code",
      "metadata": {
        "id": "vNAq-PeyM6mJ",
        "colab_type": "code",
        "colab": {}
      },
      "source": [
        "# Prepare data\n",
        "df_data = df.select('Data','Casos_Total')\n",
        "\n",
        "# Clean columns\n",
        "df_data = df_data.withColumn(\"Data\", to_date(\"Data\",\"dd/MM/yyyy\").alias(\"to_date\"))\n",
        "\n",
        "# Compute days since infection and add as column\n",
        "first_day = df_data.select(smin(\"Data\")).collect()\n",
        "df_data = df_data.withColumn('DataNumber', lit(1)+datediff(df_data[\"Data\"],lit(first_day[0][0])).alias(\"datediff\"))\n",
        "\n",
        "df_data.show()"
      ],
      "execution_count": 0,
      "outputs": []
    },
    {
      "cell_type": "markdown",
      "metadata": {
        "id": "nmm4cZmWdzs1",
        "colab_type": "text"
      },
      "source": [
        "Source: https://towardsdatascience.com/covid-19-infection-in-italy-mathematical-models-and-predictions-7784b4d7dd8d"
      ]
    },
    {
      "cell_type": "markdown",
      "metadata": {
        "id": "Mn0yosuFdCxr",
        "colab_type": "text"
      },
      "source": [
        "Logistic Model"
      ]
    },
    {
      "cell_type": "code",
      "metadata": {
        "id": "1lR3xDtmNUkO",
        "colab_type": "code",
        "colab": {
          "base_uri": "https://localhost:8080/",
          "height": 69
        },
        "outputId": "91cb94ee-a94c-431a-df75-a2ae2b8dbc05"
      },
      "source": [
        "# Set curve functions\n",
        "def logistic_model(x,a,b,c):\n",
        "    return c/(1+np.exp(-(x-b)/a))\n",
        "\n",
        "# Prepare variables for curve fitting\n",
        "y = df_data.rdd.map(lambda x: float(x.Casos_Total)).collect()\n",
        "x = df_data.rdd.map(lambda x: int(x.DataNumber)).collect()\n",
        "\n",
        "# Fit to curve\n",
        "fit = curve_fit(logistic_model,x,y)\n",
        "a = fit[0][0]\n",
        "b = fit[0][1]\n",
        "c = fit[0][2]\n",
        "# a refers to the infection speed\n",
        "# b is the day with the maximum infections occurred\n",
        "# c is the total number of recorded infected people at the infection’s end\n",
        "\n",
        "# Square root of previous given std - errors\n",
        "errors = [np.sqrt(fit[1][i][i]) for i in [0,1,2]]\n",
        "error_a = errors[0]\n",
        "error_b = errors[1]\n",
        "error_c = errors[2]\n",
        "\n",
        "# Analyze a\n",
        "print(\"Pico de infeção é esperado após {} dias com erro +/- de {}\".format(round(b),round(error_b)))\n",
        "\n",
        "# Analyze b\n",
        "fim_pandemia = int(fsolve(lambda x : logistic_model(x,a,b,c) - int(c),b))\n",
        "print(\"Fim de pandemia é esperado após {} dias.\".format(round(fim_pandemia)))\n",
        "\n",
        "# Analyze c\n",
        "print(\"Número esperado de infetados é: {} pessoas com erro +/- de {}\".format(round(c),round(error_c)))"
      ],
      "execution_count": 22,
      "outputs": [
        {
          "output_type": "stream",
          "text": [
            "Pico de infeção é esperado após 20.0 dias com erro +/- de 1.0\n",
            "Fim de pandemia é esperado após 42 dias.\n",
            "Número esperado de infetados é: 2471.0 pessoas com erro +/- de 296.0\n"
          ],
          "name": "stdout"
        }
      ]
    },
    {
      "cell_type": "markdown",
      "metadata": {
        "id": "hZ6ruAhyeuWP",
        "colab_type": "text"
      },
      "source": [
        "Plot"
      ]
    },
    {
      "cell_type": "code",
      "metadata": {
        "id": "Fe4R32YVeojS",
        "colab_type": "code",
        "colab": {
          "base_uri": "https://localhost:8080/",
          "height": 450
        },
        "outputId": "36a1ee18-7c53-4f75-d9f6-2cc64d515b9b"
      },
      "source": [
        "pred_x = list(range(max(x),fim_pandemia))\n",
        "\n",
        "plt.rcParams['figure.figsize'] = [7, 7]\n",
        "plt.rc('font', size=14)\n",
        "# Real data\n",
        "plt.scatter(x,y,label=\"Real data\",color=\"red\")\n",
        "# Predicted logistic curve\n",
        "plt.plot(x+pred_x, [logistic_model(i,fit[0][0],fit[0][1],fit[0][2]) for i in x+pred_x], label=\"Logistic model\" )\n",
        "plt.legend()\n",
        "plt.xlabel(\"Dias desde 3 de Março - Portugal\")\n",
        "plt.ylabel(\"Número total de infetados\")\n",
        "plt.ylim((min(y)*0.9,c*1.1))\n",
        "plt.show()"
      ],
      "execution_count": 23,
      "outputs": [
        {
          "output_type": "display_data",
          "data": {
            "image/png": "[encoded data removed]",
            "text/plain": [
              "<Figure size 504x504 with 1 Axes>"
            ]
          },
          "metadata": {
            "tags": []
          }
        }
      ]
    },
    {
      "cell_type": "code",
      "metadata": {
        "id": "LuMcDtD9uNAW",
        "colab_type": "code",
        "colab": {
          "base_uri": "https://localhost:8080/",
          "height": 399
        },
        "outputId": "f32c1b4b-c1c9-421a-9b06-2ae2d2d179a9"
      },
      "source": [
        "# Previsões\n",
        "[{\"Dia {}\".format(i) : \"Infetados: {}\".format(round(logistic_model(i,fit[0][0],fit[0][1],fit[0][2])))} for i in x+pred_x if i>len(x)]"
      ],
      "execution_count": 24,
      "outputs": [
        {
          "output_type": "execute_result",
          "data": {
            "text/plain": [
              "[{'Dia 20': 'Infetados: 1245.0'},\n",
              " {'Dia 21': 'Infetados: 1473.0'},\n",
              " {'Dia 22': 'Infetados: 1685.0'},\n",
              " {'Dia 23': 'Infetados: 1871.0'},\n",
              " {'Dia 24': 'Infetados: 2024.0'},\n",
              " {'Dia 25': 'Infetados: 2145.0'},\n",
              " {'Dia 26': 'Infetados: 2237.0'},\n",
              " {'Dia 27': 'Infetados: 2305.0'},\n",
              " {'Dia 28': 'Infetados: 2355.0'},\n",
              " {'Dia 29': 'Infetados: 2390.0'},\n",
              " {'Dia 30': 'Infetados: 2415.0'},\n",
              " {'Dia 31': 'Infetados: 2432.0'},\n",
              " {'Dia 32': 'Infetados: 2444.0'},\n",
              " {'Dia 33': 'Infetados: 2453.0'},\n",
              " {'Dia 34': 'Infetados: 2459.0'},\n",
              " {'Dia 35': 'Infetados: 2463.0'},\n",
              " {'Dia 36': 'Infetados: 2465.0'},\n",
              " {'Dia 37': 'Infetados: 2467.0'},\n",
              " {'Dia 38': 'Infetados: 2469.0'},\n",
              " {'Dia 39': 'Infetados: 2469.0'},\n",
              " {'Dia 40': 'Infetados: 2470.0'},\n",
              " {'Dia 41': 'Infetados: 2471.0'}]"
            ]
          },
          "metadata": {
            "tags": []
          },
          "execution_count": 24
        }
      ]
    },
    {
      "cell_type": "markdown",
      "metadata": {
        "id": "sCqnS2xad93L",
        "colab_type": "text"
      },
      "source": [
        "Analysis of residuals"
      ]
    },
    {
      "cell_type": "code",
      "metadata": {
        "id": "1F_9oiUbdfGW",
        "colab_type": "code",
        "colab": {
          "base_uri": "https://localhost:8080/",
          "height": 52
        },
        "outputId": "ec0eec54-e241-49e2-f959-e436beb19647"
      },
      "source": [
        "y_pred_logistic = [logistic_model(i,fit[0][0],fit[0][1],fit[0][2]) for i in x]\n",
        "y_pred_exp =  [exponential_model(i,exp_fit[0][0], exp_fit[0][1], exp_fit[0][2]) for i in x]\n",
        "print(mean_squared_error(y,y_pred_logistic))\n",
        "print(mean_squared_error(y,y_pred_exp))"
      ],
      "execution_count": 10,
      "outputs": [
        {
          "output_type": "stream",
          "text": [
            "86.3787907676866\n",
            "323.16455446371685\n"
          ],
          "name": "stdout"
        }
      ]
    },
    {
      "cell_type": "code",
      "metadata": {
        "id": "zAQuUcSCeBRI",
        "colab_type": "code",
        "colab": {}
      },
      "source": [
        ""
      ],
      "execution_count": 0,
      "outputs": []
    }
  ]
}