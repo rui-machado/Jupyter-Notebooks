{
 "cells": [
  {
   "cell_type": "markdown",
   "metadata": {},
   "source": [
    "# API"
   ]
  },
  {
   "cell_type": "code",
   "execution_count": null,
   "metadata": {
    "collapsed": false
   },
   "outputs": [],
   "source": [
    "from gevent import monkey\n",
    " \n",
    "monkey.patch_all()\n",
    " \n",
    "from flask import Flask, render_template, session, request\n",
    "from flask.ext.socketio import SocketIO, emit, join_room\n",
    " \n",
    "app = Flask(__name__)\n",
    "app.debug = True\n",
    "app.config['SECRET_KEY'] = 'nuttertools'\n",
    "socketio = SocketIO(app)\n",
    " \n",
    " \n",
    "@app.route('/')\n",
    "def chat():\n",
    "    return render_template('chat.html')\n",
    " \n",
    "@app.route('/login')\n",
    "def login():\n",
    "    return render_template('login.html')\n",
    " \n",
    " \n",
    "@socketio.on('message', namespace='/chat')\n",
    "def chat_message(message):\n",
    "    emit('message', {'data': message['data']}, broadcast = True)\n",
    " \n",
    "@socketio.on('connect', namespace='/chat')\n",
    "def test_connect():\n",
    "    emit('my response', {'data': 'Connected', 'count': 0})\n",
    " \n",
    " \n",
    "#if __name__ == '__main__':\n",
    "socketio.run(app)"
   ]
  },
  {
   "cell_type": "code",
   "execution_count": null,
   "metadata": {
    "collapsed": true
   },
   "outputs": [],
   "source": []
  }
 ],
 "metadata": {
  "kernelspec": {
   "display_name": "Python 3",
   "language": "python",
   "name": "python3"
  },
  "language_info": {
   "codemirror_mode": {
    "name": "ipython",
    "version": 3
   },
   "file_extension": ".py",
   "mimetype": "text/x-python",
   "name": "python",
   "nbconvert_exporter": "python",
   "pygments_lexer": "ipython3",
   "version": "3.6.0"
  }
 },
 "nbformat": 4,
 "nbformat_minor": 2
}
